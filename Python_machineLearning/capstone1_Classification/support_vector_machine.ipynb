{
 "cells": [
  {
   "cell_type": "markdown",
   "id": "f0f9256d",
   "metadata": {},
   "source": [
    "# Diabetes Prediction Using SVM\n",
    "\n",
    "This notebook builds a model to predict diabetes using SVM\n",
    "\n",
    "### First Import relevant files and load data"
   ]
  },
  {
   "cell_type": "code",
   "execution_count": 1,
   "id": "9c583cf6-a769-475e-876d-f715089a3d98",
   "metadata": {},
   "outputs": [],
   "source": [
    "from sklearn.linear_model import LogisticRegressionCV\n",
    "from sklearn.linear_model import LogisticRegression\n",
    "from sklearn.ensemble import RandomForestClassifier\n",
    "from sklearn.model_selection import train_test_split\n",
    "from sklearn.metrics import precision_score as precision\n",
    "from sklearn.metrics import recall_score as recall\n",
    "from sklearn.metrics import confusion_matrix, accuracy_score, roc_auc_score\n",
    "from sklearn.preprocessing import label_binarize\n",
    "from sklearn.preprocessing import MinMaxScaler\n",
    "from sklearn.model_selection import GridSearchCV\n",
    "import numpy as np\n",
    "import pandas as pd\n",
    "from sklearn.svm import LinearSVC\n",
    "import matplotlib.pyplot as plt\n",
    "import seaborn as sns\n",
    "df = pd.read_csv('diabetes_coursera.csv')"
   ]
  },
  {
   "cell_type": "markdown",
   "id": "3f24b343",
   "metadata": {},
   "source": [
    "### Separate X and Y Variables and standardize data to avoid scaling issues"
   ]
  },
  {
   "cell_type": "code",
   "execution_count": 12,
   "id": "2064885e-9339-4074-8ef9-921bc6340c68",
   "metadata": {},
   "outputs": [],
   "source": [
    "X_svm = df.drop(columns='Diabetes_binary')\n",
    "scaler = MinMaxScaler()\n",
    "X_svm_standardized = scaler.fit_transform(X_svm)\n",
    "X_svm_standardized = pd.DataFrame(X_svm_standardized,\n",
    "columns=X_svm.columns)\n",
    "\n",
    "y_svm = df['Diabetes_binary']\n",
    "\n"
   ]
  },
  {
   "cell_type": "markdown",
   "id": "a8997268",
   "metadata": {},
   "source": [
    "### Create SVM object and fit model"
   ]
  },
  {
   "cell_type": "code",
   "execution_count": 14,
   "id": "2015519f-b6b5-4c45-a65a-5451bbb783e4",
   "metadata": {},
   "outputs": [],
   "source": [
    "LSVC = LinearSVC()\n",
    "LSVC.fit(X_svm_standardized, y_svm)\n",
    "y_pred_svm = LSVC.predict(X_svm_standardized)\n"
   ]
  },
  {
   "cell_type": "markdown",
   "id": "a2b8a3e1",
   "metadata": {},
   "source": [
    "### Print Recall scores"
   ]
  },
  {
   "cell_type": "code",
   "execution_count": 15,
   "id": "47719873-9582-4281-9e6f-0a4380125cb3",
   "metadata": {},
   "outputs": [
    {
     "name": "stdout",
     "output_type": "stream",
     "text": [
      "0.7735528772704124\n"
     ]
    }
   ],
   "source": [
    "recall_svm = recall(y_svm,y_pred_svm)\n",
    "print(recall_svm)\n",
    "###################"
   ]
  },
  {
   "cell_type": "markdown",
   "id": "d163fb2e",
   "metadata": {},
   "source": [
    "### See the [PDF Report](classification_report.pdf) for detailed conclusions of all three models (Logistic, SVM, Random Forests)"
   ]
  }
 ],
 "metadata": {
  "kernelspec": {
   "display_name": "Python 3 (ipykernel)",
   "language": "python",
   "name": "python3"
  },
  "language_info": {
   "codemirror_mode": {
    "name": "ipython",
    "version": 3
   },
   "file_extension": ".py",
   "mimetype": "text/x-python",
   "name": "python",
   "nbconvert_exporter": "python",
   "pygments_lexer": "ipython3",
   "version": "3.11.7"
  }
 },
 "nbformat": 4,
 "nbformat_minor": 5
}

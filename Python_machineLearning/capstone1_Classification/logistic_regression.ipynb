{
 "cells": [
  {
   "cell_type": "markdown",
   "id": "f4de867b",
   "metadata": {},
   "source": [
    "# Diabetes Prediction Using Logistic Regression\n",
    "\n",
    "This notebook builds a model to predict diabetes using logistic regression\n",
    "\n",
    "### First Import relevant files and import data\n"
   ]
  },
  {
   "cell_type": "code",
   "execution_count": 3,
   "id": "ffb9a14e-67ec-4383-9fb7-1b25c4d58d22",
   "metadata": {},
   "outputs": [],
   "source": [
    "from sklearn.linear_model import LogisticRegressionCV\n",
    "from sklearn.linear_model import LogisticRegression\n",
    "from sklearn.ensemble import RandomForestClassifier\n",
    "from sklearn.model_selection import train_test_split\n",
    "from sklearn.metrics import precision_score as precision\n",
    "from sklearn.metrics import recall_score as recall\n",
    "from sklearn.metrics import confusion_matrix, accuracy_score, roc_auc_score\n",
    "from sklearn.preprocessing import label_binarize\n",
    "from sklearn.preprocessing import MinMaxScaler\n",
    "from sklearn.model_selection import GridSearchCV\n",
    "import numpy as np\n",
    "import pandas as pd\n",
    "from sklearn.svm import LinearSVC\n",
    "import matplotlib.pyplot as plt\n",
    "import seaborn as sns\n",
    "df = pd.read_csv('diabetes_coursera.csv')"
   ]
  },
  {
   "cell_type": "markdown",
   "id": "2c2e6ea1",
   "metadata": {},
   "source": [
    "### Separate X and Y Variables"
   ]
  },
  {
   "cell_type": "code",
   "execution_count": 23,
   "id": "6e3302cf-c73c-47cb-8d8d-0aacfe17a943",
   "metadata": {},
   "outputs": [],
   "source": [
    "X = df.drop(columns='Diabetes_binary')\n",
    "Y = df['Diabetes_binary']\n",
    "scalerLR = MinMaxScaler()\n",
    "#this initializes scaler we will use to standardize data\n"
   ]
  },
  {
   "cell_type": "markdown",
   "id": "76a28561",
   "metadata": {},
   "source": [
    "### Standardize the data to ensure model does not get messed up with different scales"
   ]
  },
  {
   "cell_type": "code",
   "execution_count": null,
   "id": "5584a239-f14d-4636-806f-996f510e66de",
   "metadata": {},
   "outputs": [],
   "source": [
    "\n",
    "X_lr_standardized = scalerLR.fit_transform(X)\n",
    "X_train, X_test, y_train, y_test = train_test_split(X_lr_standardized,Y,test_size=.3)\n",
    "lr = LogisticRegression(solver='liblinear').fit(X_train, y_train)\n"
   ]
  },
  {
   "cell_type": "markdown",
   "id": "18e0bb30",
   "metadata": {},
   "source": [
    "### Create logistic regression model"
   ]
  },
  {
   "cell_type": "code",
   "execution_count": null,
   "id": "1d7a0b8e-6e8c-4a99-8e4e-3c6a585d3f82",
   "metadata": {},
   "outputs": [],
   "source": [
    "\n",
    "lr_l1 = LogisticRegressionCV(Cs=10, cv=5, penalty='l2', solver='liblinear').fit(X_train, y_train)\n",
    "coef_df = pd.DataFrame({\n",
    "'Feature': X.columns,\n",
    "'Coefficient': lr_l1.coef_[0]\n",
    "})\n",
    "\n"
   ]
  },
  {
   "cell_type": "markdown",
   "id": "a1ed46e6",
   "metadata": {},
   "source": [
    "### See the coefficients, which have the strongest effect on whether someone has diabetes"
   ]
  },
  {
   "cell_type": "code",
   "execution_count": 32,
   "id": "11a336f6-8ea6-4fe0-afa4-446a95123b16",
   "metadata": {},
   "outputs": [
    {
     "name": "stdout",
     "output_type": "stream",
     "text": [
      "                 Feature  Coefficient\n",
      "0                 HighBP     0.735502\n",
      "1               HighChol     0.602741\n",
      "2              CholCheck     1.400776\n",
      "3                    BMI     6.480655\n",
      "4                 Smoker    -0.024289\n",
      "5                 Stroke     0.179593\n",
      "6   HeartDiseaseorAttack     0.265110\n",
      "7           PhysActivity    -0.038667\n",
      "8                 Fruits    -0.044519\n",
      "9                Veggies    -0.081778\n",
      "10     HvyAlcoholConsump    -0.766414\n",
      "11         AnyHealthcare     0.043115\n",
      "12           NoDocbcCost     0.025442\n",
      "13               GenHlth     2.277045\n",
      "14              MentHlth    -0.126180\n",
      "15              PhysHlth    -0.196887\n",
      "16              DiffWalk     0.096142\n",
      "17                   Sex     0.278938\n",
      "18                   Age     1.836764\n",
      "19             Education    -0.277712\n",
      "20                Income    -0.390869\n",
      "RECALL SCORE0.77566720486276\n"
     ]
    }
   ],
   "source": [
    "print(coef_df)\n",
    "y_pred = lr_l1.predict(X_test)\n",
    "recall_lr_l1 = recall(y_test,y_pred)\n",
    "print(\"RECALL SCORE\" + str(recall_lr_l1))"
   ]
  },
  {
   "cell_type": "markdown",
   "id": "6bddb1f7",
   "metadata": {},
   "source": []
  },
  {
   "cell_type": "markdown",
   "id": "0537900b",
   "metadata": {},
   "source": [
    "### See the [PDF Report](classification_report.pdf) for detailed conclusions of all three models (Logistic, SVM, Random Forests)"
   ]
  },
  {
   "cell_type": "markdown",
   "id": "8e5e7b20",
   "metadata": {},
   "source": []
  }
 ],
 "metadata": {
  "kernelspec": {
   "display_name": "base",
   "language": "python",
   "name": "python3"
  },
  "language_info": {
   "codemirror_mode": {
    "name": "ipython",
    "version": 3
   },
   "file_extension": ".py",
   "mimetype": "text/x-python",
   "name": "python",
   "nbconvert_exporter": "python",
   "pygments_lexer": "ipython3",
   "version": "3.12.4"
  }
 },
 "nbformat": 4,
 "nbformat_minor": 5
}

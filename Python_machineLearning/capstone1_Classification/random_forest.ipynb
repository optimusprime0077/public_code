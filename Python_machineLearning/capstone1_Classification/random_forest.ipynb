{
 "cells": [
  {
   "cell_type": "markdown",
   "id": "2a15b0f9",
   "metadata": {},
   "source": [
    "# Diabetes Prediction Using Random Forests\n",
    "\n",
    "This notebook builds a model to predict diabetes using random forests\n",
    "\n",
    "### First Import relevant files and load data"
   ]
  },
  {
   "cell_type": "code",
   "execution_count": 10,
   "id": "73603f54-713a-414c-84bc-863bac95876a",
   "metadata": {},
   "outputs": [],
   "source": [
    "from sklearn.linear_model import LogisticRegressionCV\n",
    "from sklearn.linear_model import LogisticRegression\n",
    "from sklearn.ensemble import RandomForestClassifier\n",
    "from sklearn.model_selection import train_test_split\n",
    "from sklearn.metrics import precision_score as precision\n",
    "from sklearn.metrics import recall_score as recall\n",
    "from sklearn.metrics import confusion_matrix, accuracy_score, roc_auc_score\n",
    "from sklearn.preprocessing import label_binarize\n",
    "from sklearn.preprocessing import MinMaxScaler\n",
    "from sklearn.model_selection import GridSearchCV\n",
    "import numpy as np\n",
    "import pandas as pd\n",
    "from sklearn.svm import LinearSVC\n",
    "import matplotlib.pyplot as plt\n",
    "import seaborn as sns\n",
    "df = pd.read_csv('diabetes_coursera.csv')"
   ]
  },
  {
   "cell_type": "markdown",
   "id": "09a54e92",
   "metadata": {},
   "source": [
    "### Separate X and Y Variables\n",
    "\n",
    "Note, unlike logistic or SVM models, we do not have to standardize for Random Forests since scaling is not an issue with tree based models"
   ]
  },
  {
   "cell_type": "code",
   "execution_count": 12,
   "id": "03f5f8b7-cbfd-48f3-a5ef-fc17a946b8d9",
   "metadata": {},
   "outputs": [],
   "source": [
    "X_rf = df.drop(columns='Diabetes_binary')\n",
    "y_rf = df['Diabetes_binary']\n",
    "\n"
   ]
  },
  {
   "cell_type": "markdown",
   "id": "40ac1610",
   "metadata": {},
   "source": [
    "### Create a test and train set, setting the test set to 20% of the data. \n",
    "\n",
    "Set a constant random state so that the data is reproducible"
   ]
  },
  {
   "cell_type": "code",
   "execution_count": 18,
   "id": "f64a51c5-1d87-43ff-a6cb-180c24dc4988",
   "metadata": {},
   "outputs": [],
   "source": [
    "X_train_rf, X_test_rf, y_train_rf, y_test_rf = train_test_split( X_rf, y_rf, test_size=0.2,random_state=4)\n"
   ]
  },
  {
   "cell_type": "markdown",
   "id": "20cfc51d",
   "metadata": {},
   "source": [
    "### Create the classifier object and initialize the grid search hyperparameters\n",
    "\n",
    "Instruct the grid search module to use Recall as its criteria"
   ]
  },
  {
   "cell_type": "code",
   "execution_count": null,
   "id": "8cf39118-0004-45df-aaaa-9c1c3fbb3872",
   "metadata": {},
   "outputs": [],
   "source": [
    "rf = RandomForestClassifier()\n",
    "rf.get_params().keys()\n",
    "param_grid = {'n_estimators': [2*n+1 for n in range(5)],\n",
    "'max_depth' : [2*n+1 for n in range(7) ],\n",
    "}\n",
    "search = GridSearchCV(estimator=rf,\n",
    "param_grid=param_grid,scoring='recall')"
   ]
  },
  {
   "cell_type": "markdown",
   "id": "dec99069",
   "metadata": {},
   "source": [
    "### Fit the model and print the best parameters"
   ]
  },
  {
   "cell_type": "code",
   "execution_count": 24,
   "id": "50048947-7779-4091-9953-7a274647117d",
   "metadata": {},
   "outputs": [
    {
     "name": "stdout",
     "output_type": "stream",
     "text": [
      "Best Parameters: {'max_depth': 5, 'n_estimators': 9}\n",
      "Best recall Score: 0.7917465293187597\n"
     ]
    }
   ],
   "source": [
    "search.fit(X_train_rf, y_train_rf)\n",
    "print(\"Best Parameters:\", search.best_params_)\n",
    "print(\"Best recall Score:\", search.best_score_)"
   ]
  },
  {
   "cell_type": "markdown",
   "id": "b02dcda6",
   "metadata": {},
   "source": [
    "### See the [PDF Report](classification_report.pdf) for detailed conclusions of all three models (Logistic, SVM, Random Forests)"
   ]
  }
 ],
 "metadata": {
  "kernelspec": {
   "display_name": "Python 3 (ipykernel)",
   "language": "python",
   "name": "python3"
  },
  "language_info": {
   "codemirror_mode": {
    "name": "ipython",
    "version": 3
   },
   "file_extension": ".py",
   "mimetype": "text/x-python",
   "name": "python",
   "nbconvert_exporter": "python",
   "pygments_lexer": "ipython3",
   "version": "3.11.7"
  }
 },
 "nbformat": 4,
 "nbformat_minor": 5
}

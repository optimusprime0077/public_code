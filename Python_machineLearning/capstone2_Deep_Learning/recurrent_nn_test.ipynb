{
 "cells": [
  {
   "cell_type": "code",
   "execution_count": 3,
   "id": "d84808ba-660a-4295-bdb8-b7ab1c71eea8",
   "metadata": {},
   "outputs": [
    {
     "name": "stdout",
     "output_type": "stream",
     "text": [
      "Epoch 1/5\n"
     ]
    },
    {
     "name": "stderr",
     "output_type": "stream",
     "text": [
      "C:\\Users\\scd\\anaconda3\\Lib\\site-packages\\keras\\src\\layers\\core\\embedding.py:90: UserWarning: Argument `input_length` is deprecated. Just remove it.\n",
      "  warnings.warn(\n"
     ]
    },
    {
     "name": "stdout",
     "output_type": "stream",
     "text": [
      "\u001b[1m313/313\u001b[0m \u001b[32m━━━━━━━━━━━━━━━━━━━━\u001b[0m\u001b[37m\u001b[0m \u001b[1m13s\u001b[0m 34ms/step - accuracy: 0.6797 - loss: 0.5603 - val_accuracy: 0.8366 - val_loss: 0.3672\n",
      "Epoch 2/5\n",
      "\u001b[1m313/313\u001b[0m \u001b[32m━━━━━━━━━━━━━━━━━━━━\u001b[0m\u001b[37m\u001b[0m \u001b[1m10s\u001b[0m 31ms/step - accuracy: 0.8955 - loss: 0.2649 - val_accuracy: 0.8468 - val_loss: 0.3548\n",
      "Epoch 3/5\n",
      "\u001b[1m313/313\u001b[0m \u001b[32m━━━━━━━━━━━━━━━━━━━━\u001b[0m\u001b[37m\u001b[0m \u001b[1m10s\u001b[0m 31ms/step - accuracy: 0.9231 - loss: 0.2131 - val_accuracy: 0.8364 - val_loss: 0.4366\n",
      "Epoch 4/5\n",
      "\u001b[1m313/313\u001b[0m \u001b[32m━━━━━━━━━━━━━━━━━━━━\u001b[0m\u001b[37m\u001b[0m \u001b[1m10s\u001b[0m 31ms/step - accuracy: 0.9389 - loss: 0.1697 - val_accuracy: 0.8316 - val_loss: 0.4939\n",
      "Epoch 5/5\n",
      "\u001b[1m313/313\u001b[0m \u001b[32m━━━━━━━━━━━━━━━━━━━━\u001b[0m\u001b[37m\u001b[0m \u001b[1m11s\u001b[0m 34ms/step - accuracy: 0.9608 - loss: 0.1160 - val_accuracy: 0.8350 - val_loss: 0.5378\n",
      "\u001b[1m782/782\u001b[0m \u001b[32m━━━━━━━━━━━━━━━━━━━━\u001b[0m\u001b[37m\u001b[0m \u001b[1m6s\u001b[0m 7ms/step - accuracy: 0.8261 - loss: 0.5658\n",
      "Test Loss: 0.5608222484588623\n",
      "Test Accuracy: 0.826479971408844\n"
     ]
    }
   ],
   "source": [
    "import tensorflow as tf\n",
    "from tensorflow.keras.datasets import imdb\n",
    "from tensorflow.keras.preprocessing.sequence import pad_sequences\n",
    "from tensorflow.keras.models import Sequential\n",
    "from tensorflow.keras.layers import Embedding, LSTM, Dense\n",
    "\n",
    "\n",
    "vocab_size = 10000\n",
    "max_length = 100\n",
    "embedding_dim = 32\n",
    "\n",
    "(x_train, y_train), (x_test, y_test) = imdb.load_data(num_words=vocab_size)\n",
    "\n",
    "# Preprocess data: Padding sequences to make them of equal length\n",
    "x_train = pad_sequences(x_train, maxlen=max_length)\n",
    "x_test = pad_sequences(x_test, maxlen=max_length)\n",
    "\n",
    "# creat recurrent neural netwrok model. Recurrent NNs are typically used in natural language processing \n",
    "model = Sequential([\n",
    "    Embedding(input_dim=vocab_size, output_dim=embedding_dim, input_length=max_length),\n",
    "    LSTM(units=64, return_sequences=False),\n",
    "    Dense(1, activation='sigmoid')  # Binary classification (positive/negative)\n",
    "])\n",
    "\n",
    "#compile\n",
    "model.compile(optimizer='adam', loss='binary_crossentropy', metrics=['accuracy'])\n",
    "\n",
    "\n",
    "batch_size = 64\n",
    "epochs = 5\n",
    "\n",
    "model.fit(x_train, y_train, validation_split=0.2, batch_size=batch_size, epochs=epochs)\n",
    "\n",
    "#evaluate\n",
    "loss, accuracy = model.evaluate(x_test, y_test)\n",
    "print(f\"Test Loss: {loss}\")\n",
    "print(f\"Test Accuracy: {accuracy}\")"
   ]
  },
  {
   "cell_type": "code",
   "execution_count": 47,
   "id": "487c7c59-6240-44ac-a7d2-1123d152f643",
   "metadata": {},
   "outputs": [
    {
     "name": "stdout",
     "output_type": "stream",
     "text": [
      "\u001b[1m1/1\u001b[0m \u001b[32m━━━━━━━━━━━━━━━━━━━━\u001b[0m\u001b[37m\u001b[0m \u001b[1m0s\u001b[0m 18ms/step\n",
      "Prediction (Probability of Positive Sentiment): 0.20650528371334076\n",
      "Sentiment: Negative\n"
     ]
    }
   ],
   "source": [
    "from tensorflow.keras.preprocessing.text import Tokenizer\n",
    "from tensorflow.keras.preprocessing.sequence import pad_sequences\n",
    "\n",
    "# input your message right here\n",
    "new_message = [\"INPUT MESSAGE HERE\"]\n",
    "\n",
    "#make tokenizer \n",
    "tokenizer = imdb.get_word_index()  # Use IMDB word index\n",
    "reverse_word_index = {value: key for key, value in tokenizer.items()}\n",
    "tokenizer = {key: value + 3 for key, value in tokenizer.items()}  # Offset for special tokens\n",
    "tokenizer[\"<PAD>\"] = 0\n",
    "tokenizer[\"<START>\"] = 1\n",
    "tokenizer[\"<UNK>\"] = 2\n",
    "tokenizer[\"<UNUSED>\"] = 3\n",
    "\n",
    "\n",
    "tokenized_message = [[tokenizer.get(word, 2) for word in message.split()] for message in new_message]\n",
    "\n",
    "# Padding to match test data\n",
    "padded_message = pad_sequences(tokenized_message, maxlen=max_length)\n",
    "\n",
    "\n",
    "prediction = model.predict(padded_message)\n",
    "print(f\"Prediction (Probability of Positive Sentiment): {prediction[0][0]}\")\n",
    "print(\"Sentiment:\", \"Positive\" if prediction[0][0] > 0.5 else \"Negative\")"
   ]
  },
  {
   "cell_type": "raw",
   "id": "b3d2fa9d-0b86-42ad-8257-8fc1ccb88a9c",
   "metadata": {},
   "source": []
  },
  {
   "cell_type": "code",
   "execution_count": null,
   "id": "5c925579-992f-4366-a403-a45adcb67c36",
   "metadata": {},
   "outputs": [],
   "source": []
  }
 ],
 "metadata": {
  "kernelspec": {
   "display_name": "Python 3 (ipykernel)",
   "language": "python",
   "name": "python3"
  },
  "language_info": {
   "codemirror_mode": {
    "name": "ipython",
    "version": 3
   },
   "file_extension": ".py",
   "mimetype": "text/x-python",
   "name": "python",
   "nbconvert_exporter": "python",
   "pygments_lexer": "ipython3",
   "version": "3.11.7"
  }
 },
 "nbformat": 4,
 "nbformat_minor": 5
}
